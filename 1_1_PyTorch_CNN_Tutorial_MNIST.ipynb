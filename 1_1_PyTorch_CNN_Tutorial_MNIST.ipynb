{
  "nbformat": 4,
  "nbformat_minor": 0,
  "metadata": {
    "colab": {
      "provenance": [],
      "authorship_tag": "ABX9TyMXqWMAZW8pha+V23KXts24",
      "include_colab_link": true
    },
    "kernelspec": {
      "name": "python3",
      "display_name": "Python 3"
    },
    "language_info": {
      "name": "python"
    },
    "accelerator": "GPU"
  },
  "cells": [
    {
      "cell_type": "markdown",
      "metadata": {
        "id": "view-in-github",
        "colab_type": "text"
      },
      "source": [
        "<a href=\"https://colab.research.google.com/github/myresearch-ai/Deep-Learning-CNN-Demo-with-PyTorch/blob/main/1_1_PyTorch_CNN_Tutorial_MNIST.ipynb\" target=\"_parent\"><img src=\"https://colab.research.google.com/assets/colab-badge.svg\" alt=\"Open In Colab\"/></a>"
      ]
    },
    {
      "cell_type": "markdown",
      "source": [
        "**1. LIBRARIES & MODULES**"
      ],
      "metadata": {
        "id": "GpJtSk-9Fnbc"
      }
    },
    {
      "cell_type": "code",
      "source": [
        "# Import PyTorch\n",
        "import torch\n",
        "# Import torchvision to get our dataset & useful image transformations\n",
        "import torchvision\n",
        "from torchvision.transforms import transforms\n",
        "# Import PyTorch's optimization library & nn\n",
        "# nn is used as the basic building block for constructing our network architecture\n",
        "import torch.optim as optim\n",
        "import torch.nn as nn\n",
        "# Import PyTorch's modules for building model\n",
        "import torch.nn as nn\n",
        "import torch.nn.functional as F\n",
        "# Plotting tools\n",
        "import matplotlib.pyplot as plt\n",
        "\n",
        "# Check if we are using GPU\n",
        "print(f\"GPU available: {torch.cuda.is_available()}\")"
      ],
      "metadata": {
        "colab": {
          "base_uri": "https://localhost:8080/"
        },
        "id": "X-DsD7k1Fw_i",
        "outputId": "ed6effad-6e4d-4f64-8c65-757ee390ad38"
      },
      "execution_count": 1,
      "outputs": [
        {
          "output_type": "stream",
          "name": "stdout",
          "text": [
            "GPU available: True\n"
          ]
        }
      ]
    },
    {
      "cell_type": "markdown",
      "source": [
        "If GPU is available set device = `'cuda'` if not set device = `'cpu'`"
      ],
      "metadata": {
        "id": "TxdAYJ01HUuX"
      }
    },
    {
      "cell_type": "code",
      "source": [
        "if torch.cuda.is_available():\n",
        "  device = \"cuda\"\n",
        "  print(\"GPU is available & device set to use it.\")\n",
        "else:\n",
        "  device = \"cpu\"\n",
        "  print(\"GPU is unavailable & device set to cpu.\")"
      ],
      "metadata": {
        "colab": {
          "base_uri": "https://localhost:8080/"
        },
        "id": "He-3eBxNHgSw",
        "outputId": "e757a089-4355-444c-b81d-68ad03fa346d"
      },
      "execution_count": 2,
      "outputs": [
        {
          "output_type": "stream",
          "name": "stdout",
          "text": [
            "GPU is available & device set to use it.\n"
          ]
        }
      ]
    },
    {
      "cell_type": "markdown",
      "source": [
        "**2. Define The Transformer Pipeline**"
      ],
      "metadata": {
        "id": "c7NcjRkhIjcD"
      }
    },
    {
      "cell_type": "code",
      "source": [
        "# Transform to a PyTorch tensor & normalize values between -1 and +1\n",
        "transform = transforms.Compose([transforms.ToTensor(),\n",
        "                               transforms.Normalize((0.5), (0.5))])"
      ],
      "metadata": {
        "id": "uk6LhkE0ILAg"
      },
      "execution_count": 3,
      "outputs": []
    },
    {
      "cell_type": "markdown",
      "source": [
        "**3. Fetch MNIST data using torchvision**"
      ],
      "metadata": {
        "id": "mC485YXzJmfC"
      }
    },
    {
      "cell_type": "code",
      "source": [
        "# Load training data & pass the transform pipeline to preprocess it\n",
        "trainset = torchvision.datasets.MNIST(\"mnist\",\n",
        "                                      train = True,\n",
        "                                      download = True,\n",
        "                                      transform = transform)\n",
        "\n",
        "# Load test data & pass the transform pipeline to preprocess it\n",
        "testset = torchvision.datasets.MNIST(\"mnist\",\n",
        "                                     train = False,\n",
        "                                     download = True,\n",
        "                                     transform = transform)"
      ],
      "metadata": {
        "id": "mj8LOfdsJkQp"
      },
      "execution_count": 4,
      "outputs": []
    },
    {
      "cell_type": "markdown",
      "source": [
        "**4. Visually inspect our data using matplotlib**"
      ],
      "metadata": {
        "id": "9gXWWGazK-V1"
      }
    },
    {
      "cell_type": "code",
      "source": [
        "figure = plt.figure()\n",
        "num_of_images = 50\n",
        "\n",
        "for index in range(1, num_of_images+1):\n",
        "  plt.subplot(5, 10, index)\n",
        "  plt.axis(\"off\")\n",
        "  plt.imshow(trainset.data[index], cmap = \"gray_r\")"
      ],
      "metadata": {
        "colab": {
          "base_uri": "https://localhost:8080/",
          "height": 239
        },
        "id": "rUfKlQqSKxXL",
        "outputId": "34761555-d2b0-4698-e317-184d46c2c7eb"
      },
      "execution_count": 5,
      "outputs": [
        {
          "output_type": "display_data",
          "data": {
            "text/plain": [
              "<Figure size 432x288 with 50 Axes>"
            ],
            "image/png": "[encoded data removed]"
          },
          "metadata": {
            "needs_background": "light"
          }
        }
      ]
    },
    {
      "cell_type": "markdown",
      "source": [
        "**5. Create our Data Loader**"
      ],
      "metadata": {
        "id": "tZwD-MW7MM1R"
      }
    },
    {
      "cell_type": "code",
      "source": [
        "# Prepare train & test loader\n",
        "torch.manual_seed(292)\n",
        "trainloader = torch.utils.data.DataLoader(trainset,\n",
        "                                          batch_size = 128,\n",
        "                                          shuffle = True,\n",
        "                                          num_workers = 0)\n",
        "\n",
        "testloader = torch.utils.data.DataLoader(testset,\n",
        "                                         batch_size = 128,\n",
        "                                         shuffle = False,\n",
        "                                         num_workers = 0)"
      ],
      "metadata": {
        "id": "o2RLPGu8L2ZX"
      },
      "execution_count": 6,
      "outputs": []
    },
    {
      "cell_type": "markdown",
      "source": [
        "**6. Build Model**: Subclassing `nn.Module`"
      ],
      "metadata": {
        "id": "5flzWmavCkVF"
      }
    },
    {
      "cell_type": "code",
      "source": [
        "class Net(nn.Module):\n",
        "  def __init__(self):\n",
        "    super(Net, self).__init__()\n",
        "    # Define layer objects\n",
        "    self.conv1 = nn.Conv2d(in_channels = 1, \n",
        "                           out_channels = 32, \n",
        "                           kernel_size = 5, \n",
        "                           padding = 2)\n",
        "    self.conv2 = nn.Conv2d(in_channels = 32, \n",
        "                           out_channels = 64, \n",
        "                           kernel_size = 5,\n",
        "                           padding = 2)\n",
        "    self.pool1 = nn.MaxPool2d(kernel_size=2)\n",
        "    self.pool2  = nn.MaxPool2d(kernel_size=2)\n",
        "    self.fc1   = nn.Linear(3136, 1024)\n",
        "    self.fc2   = nn.Linear(1024, 10)\n",
        "    self.dropout = nn.Dropout(p=0.5)\n",
        "\n",
        "  def forward(self, x):\n",
        "    # Define forward propagation sequence\n",
        "    # Remember it's Conv1 - Relu - Conv2 - Relu - Max Pool - Flatten - FC1 - FC2\n",
        "    x = F.relu(self.conv1(x))\n",
        "    x = self.pool1(x)\n",
        "    x = F.relu(self.conv2(x))\n",
        "    x = self.pool2(x)\n",
        "    # Flatten\n",
        "    x = x.view(-1, 3136)\n",
        "    x = F.relu(self.fc1(x))\n",
        "    x = self.dropout(x)\n",
        "    x = self.fc2(x)\n",
        "\n",
        "    return x"
      ],
      "metadata": {
        "id": "in9oQepjGYnQ"
      },
      "execution_count": 8,
      "outputs": []
    },
    {
      "cell_type": "code",
      "source": [
        "# Create an instance of the model and move it (memory and operations) to the CUDA device\n",
        "net = Net()\n",
        "net.to(device)"
      ],
      "metadata": {
        "colab": {
          "base_uri": "https://localhost:8080/"
        },
        "id": "NE8GTEqGGmVV",
        "outputId": "1526dcc5-c277-4bfb-997e-af170c35bc29"
      },
      "execution_count": 9,
      "outputs": [
        {
          "output_type": "execute_result",
          "data": {
            "text/plain": [
              "Net(\n",
              "  (conv1): Conv2d(1, 32, kernel_size=(5, 5), stride=(1, 1), padding=(2, 2))\n",
              "  (conv2): Conv2d(32, 64, kernel_size=(5, 5), stride=(1, 1), padding=(2, 2))\n",
              "  (pool1): MaxPool2d(kernel_size=2, stride=2, padding=0, dilation=1, ceil_mode=False)\n",
              "  (pool2): MaxPool2d(kernel_size=2, stride=2, padding=0, dilation=1, ceil_mode=False)\n",
              "  (fc1): Linear(in_features=3136, out_features=1024, bias=True)\n",
              "  (fc2): Linear(in_features=1024, out_features=10, bias=True)\n",
              "  (dropout): Dropout(p=0.5, inplace=False)\n",
              ")"
            ]
          },
          "metadata": {},
          "execution_count": 9
        }
      ]
    },
    {
      "cell_type": "markdown",
      "source": [
        "**7. Define Loss Function**"
      ],
      "metadata": {
        "id": "HcNZF9ecGxL8"
      }
    },
    {
      "cell_type": "code",
      "source": [
        "criterion = nn.CrossEntropyLoss()\n",
        "# For our gradient descent algorthim or Optimizer\n",
        "# We use Stochastic Gradient Descent (SGD) with a learning rate of 0.001\n",
        "# We set the momentum to be 0.9\n",
        "optimizer = optim.Adam(net.parameters(), lr=0.001)"
      ],
      "metadata": {
        "id": "72AeEGNlGoBq"
      },
      "execution_count": 10,
      "outputs": []
    },
    {
      "cell_type": "markdown",
      "source": [
        "**8. Training The Model**"
      ],
      "metadata": {
        "id": "ziV0oyRhJM6e"
      }
    },
    {
      "cell_type": "code",
      "source": [
        "def train(model, num_epochs, train_loader, test_loader):\n",
        "    epoch_log = []\n",
        "    loss_log  = []\n",
        "    accuracy_log = []\n",
        "    \n",
        "    for epoch in range(num_epochs):\n",
        "        print(f\"Starting Epoch: {epoch + 1}...\")\n",
        "        running_loss = 0.0\n",
        "        for i, data in enumerate(train_loader, 0):\n",
        "            inputs, labels = data\n",
        "            #Move our data to device\n",
        "            inputs = inputs.to(device)\n",
        "            labels = labels.to(device)\n",
        "            # Clear gradients before training\n",
        "            optimizer.zero_grad()\n",
        "            # Forward -> backprop + optimize\n",
        "            outputs = model(inputs) # Forward prop\n",
        "            loss = criterion(outputs, labels) # Get loss\n",
        "            loss.backward() # Backprop loss\n",
        "            optimizer.step() # Update gradients\n",
        "\n",
        "            # Print Training statistics - Epoch/Iterations/Loss/Accuracy\n",
        "            running_loss += loss.item()\n",
        "            if i % 50 == 49:\n",
        "                correct = 0\n",
        "                total   = 0\n",
        "                with torch.no_grad():\n",
        "                    for data in test_loader:\n",
        "                        images, labels = data\n",
        "                        # Move our data to GPU\n",
        "                        images = images.to(device)\n",
        "                        labels = labels.to(device)\n",
        "                        # Foward propagate our test data batch through our model\n",
        "                        outputs = model(images)\n",
        "                        _, predicted = torch.max(outputs.data, dim = 1)\n",
        "                        # Keep adding the label size or length to the total variable\n",
        "                        total += labels.size(0)\n",
        "                        # Keep a running total of the number of predictions predicted correctly\n",
        "                        correct += (predicted == labels).sum().item()\n",
        "                    accuracy = 100 * correct / total\n",
        "                    epoch_num = epoch + 1\n",
        "                    actual_loss = running_loss / 50\n",
        "                    print(f'Epoch: {epoch_num}, Mini-Batches Completed: {(i+1)}, Loss: {actual_loss:.3f}, Test Accuracy = {accuracy:.3f}%')\n",
        "                    running_loss = 0.0\n",
        "\n",
        "        # Store training stats after each epoch\n",
        "        epoch_log.append(epoch_num)\n",
        "        loss_log.append(actual_loss)\n",
        "        accuracy_log.append(accuracy)\n",
        "\n",
        "    print('Finished Training')"
      ],
      "metadata": {
        "id": "66xYlr64HFJY"
      },
      "execution_count": 11,
      "outputs": []
    },
    {
      "cell_type": "code",
      "source": [
        "train(model=net, num_epochs=10, train_loader=trainloader, test_loader=testloader)"
      ],
      "metadata": {
        "colab": {
          "base_uri": "https://localhost:8080/"
        },
        "id": "oSdUFnCOOzyU",
        "outputId": "d15fb5a0-dded-45a0-9c84-14636c37aabc"
      },
      "execution_count": 12,
      "outputs": [
        {
          "output_type": "stream",
          "name": "stdout",
          "text": [
            "Starting Epoch: 1...\n",
            "Epoch: 1, Mini-Batches Completed: 50, Loss: 0.692, Test Accuracy = 94.020%\n",
            "Epoch: 1, Mini-Batches Completed: 100, Loss: 0.175, Test Accuracy = 96.630%\n",
            "Epoch: 1, Mini-Batches Completed: 150, Loss: 0.117, Test Accuracy = 97.220%\n",
            "Epoch: 1, Mini-Batches Completed: 200, Loss: 0.095, Test Accuracy = 97.260%\n",
            "Epoch: 1, Mini-Batches Completed: 250, Loss: 0.081, Test Accuracy = 97.920%\n",
            "Epoch: 1, Mini-Batches Completed: 300, Loss: 0.075, Test Accuracy = 98.370%\n",
            "Epoch: 1, Mini-Batches Completed: 350, Loss: 0.067, Test Accuracy = 98.290%\n",
            "Epoch: 1, Mini-Batches Completed: 400, Loss: 0.066, Test Accuracy = 98.510%\n",
            "Epoch: 1, Mini-Batches Completed: 450, Loss: 0.071, Test Accuracy = 98.220%\n",
            "Starting Epoch: 2...\n",
            "Epoch: 2, Mini-Batches Completed: 50, Loss: 0.057, Test Accuracy = 98.580%\n",
            "Epoch: 2, Mini-Batches Completed: 100, Loss: 0.056, Test Accuracy = 98.390%\n",
            "Epoch: 2, Mini-Batches Completed: 150, Loss: 0.052, Test Accuracy = 98.680%\n",
            "Epoch: 2, Mini-Batches Completed: 200, Loss: 0.047, Test Accuracy = 98.580%\n",
            "Epoch: 2, Mini-Batches Completed: 250, Loss: 0.049, Test Accuracy = 98.560%\n",
            "Epoch: 2, Mini-Batches Completed: 300, Loss: 0.044, Test Accuracy = 98.560%\n",
            "Epoch: 2, Mini-Batches Completed: 350, Loss: 0.047, Test Accuracy = 98.760%\n",
            "Epoch: 2, Mini-Batches Completed: 400, Loss: 0.044, Test Accuracy = 98.700%\n",
            "Epoch: 2, Mini-Batches Completed: 450, Loss: 0.041, Test Accuracy = 98.870%\n",
            "Starting Epoch: 3...\n",
            "Epoch: 3, Mini-Batches Completed: 50, Loss: 0.030, Test Accuracy = 98.780%\n",
            "Epoch: 3, Mini-Batches Completed: 100, Loss: 0.035, Test Accuracy = 98.830%\n",
            "Epoch: 3, Mini-Batches Completed: 150, Loss: 0.038, Test Accuracy = 98.830%\n",
            "Epoch: 3, Mini-Batches Completed: 200, Loss: 0.034, Test Accuracy = 98.800%\n",
            "Epoch: 3, Mini-Batches Completed: 250, Loss: 0.034, Test Accuracy = 99.030%\n",
            "Epoch: 3, Mini-Batches Completed: 300, Loss: 0.034, Test Accuracy = 98.660%\n",
            "Epoch: 3, Mini-Batches Completed: 350, Loss: 0.038, Test Accuracy = 98.810%\n",
            "Epoch: 3, Mini-Batches Completed: 400, Loss: 0.035, Test Accuracy = 98.850%\n",
            "Epoch: 3, Mini-Batches Completed: 450, Loss: 0.027, Test Accuracy = 98.720%\n",
            "Starting Epoch: 4...\n",
            "Epoch: 4, Mini-Batches Completed: 50, Loss: 0.025, Test Accuracy = 98.780%\n",
            "Epoch: 4, Mini-Batches Completed: 100, Loss: 0.025, Test Accuracy = 99.000%\n",
            "Epoch: 4, Mini-Batches Completed: 150, Loss: 0.026, Test Accuracy = 99.010%\n",
            "Epoch: 4, Mini-Batches Completed: 200, Loss: 0.024, Test Accuracy = 99.030%\n",
            "Epoch: 4, Mini-Batches Completed: 250, Loss: 0.029, Test Accuracy = 98.920%\n",
            "Epoch: 4, Mini-Batches Completed: 300, Loss: 0.023, Test Accuracy = 98.960%\n",
            "Epoch: 4, Mini-Batches Completed: 350, Loss: 0.031, Test Accuracy = 99.070%\n",
            "Epoch: 4, Mini-Batches Completed: 400, Loss: 0.030, Test Accuracy = 98.760%\n",
            "Epoch: 4, Mini-Batches Completed: 450, Loss: 0.026, Test Accuracy = 98.770%\n",
            "Starting Epoch: 5...\n",
            "Epoch: 5, Mini-Batches Completed: 50, Loss: 0.019, Test Accuracy = 98.970%\n",
            "Epoch: 5, Mini-Batches Completed: 100, Loss: 0.025, Test Accuracy = 98.610%\n",
            "Epoch: 5, Mini-Batches Completed: 150, Loss: 0.021, Test Accuracy = 99.120%\n",
            "Epoch: 5, Mini-Batches Completed: 200, Loss: 0.022, Test Accuracy = 98.970%\n",
            "Epoch: 5, Mini-Batches Completed: 250, Loss: 0.023, Test Accuracy = 98.860%\n",
            "Epoch: 5, Mini-Batches Completed: 300, Loss: 0.021, Test Accuracy = 98.990%\n",
            "Epoch: 5, Mini-Batches Completed: 350, Loss: 0.022, Test Accuracy = 99.100%\n",
            "Epoch: 5, Mini-Batches Completed: 400, Loss: 0.022, Test Accuracy = 99.130%\n",
            "Epoch: 5, Mini-Batches Completed: 450, Loss: 0.015, Test Accuracy = 99.130%\n",
            "Starting Epoch: 6...\n",
            "Epoch: 6, Mini-Batches Completed: 50, Loss: 0.013, Test Accuracy = 99.140%\n",
            "Epoch: 6, Mini-Batches Completed: 100, Loss: 0.011, Test Accuracy = 99.260%\n",
            "Epoch: 6, Mini-Batches Completed: 150, Loss: 0.013, Test Accuracy = 99.070%\n",
            "Epoch: 6, Mini-Batches Completed: 200, Loss: 0.019, Test Accuracy = 98.980%\n",
            "Epoch: 6, Mini-Batches Completed: 250, Loss: 0.017, Test Accuracy = 99.220%\n",
            "Epoch: 6, Mini-Batches Completed: 300, Loss: 0.021, Test Accuracy = 98.830%\n",
            "Epoch: 6, Mini-Batches Completed: 350, Loss: 0.021, Test Accuracy = 98.930%\n",
            "Epoch: 6, Mini-Batches Completed: 400, Loss: 0.022, Test Accuracy = 99.070%\n",
            "Epoch: 6, Mini-Batches Completed: 450, Loss: 0.021, Test Accuracy = 99.070%\n",
            "Starting Epoch: 7...\n",
            "Epoch: 7, Mini-Batches Completed: 50, Loss: 0.018, Test Accuracy = 99.130%\n",
            "Epoch: 7, Mini-Batches Completed: 100, Loss: 0.011, Test Accuracy = 99.240%\n",
            "Epoch: 7, Mini-Batches Completed: 150, Loss: 0.015, Test Accuracy = 99.010%\n",
            "Epoch: 7, Mini-Batches Completed: 200, Loss: 0.020, Test Accuracy = 99.030%\n",
            "Epoch: 7, Mini-Batches Completed: 250, Loss: 0.014, Test Accuracy = 99.080%\n",
            "Epoch: 7, Mini-Batches Completed: 300, Loss: 0.016, Test Accuracy = 99.070%\n",
            "Epoch: 7, Mini-Batches Completed: 350, Loss: 0.011, Test Accuracy = 99.220%\n",
            "Epoch: 7, Mini-Batches Completed: 400, Loss: 0.015, Test Accuracy = 99.060%\n",
            "Epoch: 7, Mini-Batches Completed: 450, Loss: 0.016, Test Accuracy = 98.980%\n",
            "Starting Epoch: 8...\n",
            "Epoch: 8, Mini-Batches Completed: 50, Loss: 0.018, Test Accuracy = 99.130%\n",
            "Epoch: 8, Mini-Batches Completed: 100, Loss: 0.009, Test Accuracy = 99.260%\n",
            "Epoch: 8, Mini-Batches Completed: 150, Loss: 0.013, Test Accuracy = 99.200%\n",
            "Epoch: 8, Mini-Batches Completed: 200, Loss: 0.012, Test Accuracy = 99.020%\n",
            "Epoch: 8, Mini-Batches Completed: 250, Loss: 0.015, Test Accuracy = 99.110%\n",
            "Epoch: 8, Mini-Batches Completed: 300, Loss: 0.011, Test Accuracy = 98.980%\n",
            "Epoch: 8, Mini-Batches Completed: 350, Loss: 0.019, Test Accuracy = 99.080%\n",
            "Epoch: 8, Mini-Batches Completed: 400, Loss: 0.020, Test Accuracy = 99.090%\n",
            "Epoch: 8, Mini-Batches Completed: 450, Loss: 0.020, Test Accuracy = 99.010%\n",
            "Starting Epoch: 9...\n",
            "Epoch: 9, Mini-Batches Completed: 50, Loss: 0.011, Test Accuracy = 99.070%\n",
            "Epoch: 9, Mini-Batches Completed: 100, Loss: 0.008, Test Accuracy = 99.160%\n",
            "Epoch: 9, Mini-Batches Completed: 150, Loss: 0.009, Test Accuracy = 99.040%\n",
            "Epoch: 9, Mini-Batches Completed: 200, Loss: 0.012, Test Accuracy = 99.130%\n",
            "Epoch: 9, Mini-Batches Completed: 250, Loss: 0.014, Test Accuracy = 99.100%\n",
            "Epoch: 9, Mini-Batches Completed: 300, Loss: 0.014, Test Accuracy = 98.960%\n",
            "Epoch: 9, Mini-Batches Completed: 350, Loss: 0.013, Test Accuracy = 99.040%\n",
            "Epoch: 9, Mini-Batches Completed: 400, Loss: 0.015, Test Accuracy = 99.100%\n",
            "Epoch: 9, Mini-Batches Completed: 450, Loss: 0.011, Test Accuracy = 98.930%\n",
            "Starting Epoch: 10...\n",
            "Epoch: 10, Mini-Batches Completed: 50, Loss: 0.010, Test Accuracy = 99.160%\n",
            "Epoch: 10, Mini-Batches Completed: 100, Loss: 0.009, Test Accuracy = 99.180%\n",
            "Epoch: 10, Mini-Batches Completed: 150, Loss: 0.013, Test Accuracy = 99.090%\n",
            "Epoch: 10, Mini-Batches Completed: 200, Loss: 0.007, Test Accuracy = 99.180%\n",
            "Epoch: 10, Mini-Batches Completed: 250, Loss: 0.010, Test Accuracy = 99.180%\n",
            "Epoch: 10, Mini-Batches Completed: 300, Loss: 0.017, Test Accuracy = 98.760%\n",
            "Epoch: 10, Mini-Batches Completed: 350, Loss: 0.010, Test Accuracy = 99.080%\n",
            "Epoch: 10, Mini-Batches Completed: 400, Loss: 0.013, Test Accuracy = 99.000%\n",
            "Epoch: 10, Mini-Batches Completed: 450, Loss: 0.017, Test Accuracy = 99.070%\n",
            "Finished Training\n"
          ]
        }
      ]
    },
    {
      "cell_type": "markdown",
      "source": [
        "**6. Build Model**:`nn.Sequential`"
      ],
      "metadata": {
        "id": "q0KHAum24lyj"
      }
    },
    {
      "cell_type": "code",
      "source": [
        "model = nn.Sequential()\n",
        "model.add_module(\n",
        "    \"conv1\",\n",
        "    nn.Conv2d(\n",
        "        in_channels=1, out_channels=32,\n",
        "        kernel_size=5, padding=2\n",
        "    )\n",
        ")\n",
        "model.add_module(\"relu\", nn.ReLU())\n",
        "model.add_module(\"pool1\", nn.MaxPool2d(kernel_size=2))\n",
        "model.add_module(\n",
        "    \"conv2\",\n",
        "    nn.Conv2d(\n",
        "        in_channels=32, out_channels=64,\n",
        "        kernel_size=5, padding=2\n",
        "    )\n",
        ")\n",
        "model.add_module(\"relu2\", nn.ReLU())\n",
        "model.add_module(\"pool2\", nn.MaxPool2d(kernel_size=2))\n",
        "model.add_module(\"flatten\", nn.Flatten())\n",
        "model.add_module(\"fc1\", nn.Linear(3136, 1024))\n",
        "model.add_module(\"relu3\", nn.ReLU())\n",
        "model.add_module(\"dropout\", nn.Dropout(p=0.5))\n",
        "model.add_module(\"fc2\", nn.Linear(1024, 10))\n",
        "\n",
        "criterion = nn.CrossEntropyLoss()\n",
        "optimizer = torch.optim.Adam(model.parameters(), lr=0.001)\n",
        "\n",
        "if torch.cuda.is_available():\n",
        "    model.cuda()"
      ],
      "metadata": {
        "id": "3YreHzcMPBAt"
      },
      "execution_count": 13,
      "outputs": []
    },
    {
      "cell_type": "code",
      "source": [
        "train(model=model, num_epochs=10, train_loader=trainloader, test_loader=testloader)"
      ],
      "metadata": {
        "colab": {
          "base_uri": "https://localhost:8080/"
        },
        "id": "mvthrn2G6Fmi",
        "outputId": "bfac009b-1b50-49b6-d5ed-a49c24beded4"
      },
      "execution_count": 14,
      "outputs": [
        {
          "output_type": "stream",
          "name": "stdout",
          "text": [
            "Starting Epoch: 1...\n",
            "Epoch: 1, Mini-Batches Completed: 50, Loss: 0.757, Test Accuracy = 93.110%\n",
            "Epoch: 1, Mini-Batches Completed: 100, Loss: 0.201, Test Accuracy = 95.790%\n",
            "Epoch: 1, Mini-Batches Completed: 150, Loss: 0.140, Test Accuracy = 96.910%\n",
            "Epoch: 1, Mini-Batches Completed: 200, Loss: 0.108, Test Accuracy = 97.090%\n",
            "Epoch: 1, Mini-Batches Completed: 250, Loss: 0.098, Test Accuracy = 97.820%\n",
            "Epoch: 1, Mini-Batches Completed: 300, Loss: 0.092, Test Accuracy = 97.580%\n",
            "Epoch: 1, Mini-Batches Completed: 350, Loss: 0.075, Test Accuracy = 98.060%\n",
            "Epoch: 1, Mini-Batches Completed: 400, Loss: 0.073, Test Accuracy = 97.960%\n",
            "Epoch: 1, Mini-Batches Completed: 450, Loss: 0.063, Test Accuracy = 98.150%\n",
            "Starting Epoch: 2...\n",
            "Epoch: 2, Mini-Batches Completed: 50, Loss: 0.055, Test Accuracy = 98.570%\n",
            "Epoch: 2, Mini-Batches Completed: 100, Loss: 0.051, Test Accuracy = 98.390%\n",
            "Epoch: 2, Mini-Batches Completed: 150, Loss: 0.055, Test Accuracy = 98.230%\n",
            "Epoch: 2, Mini-Batches Completed: 200, Loss: 0.048, Test Accuracy = 98.520%\n",
            "Epoch: 2, Mini-Batches Completed: 250, Loss: 0.055, Test Accuracy = 98.690%\n",
            "Epoch: 2, Mini-Batches Completed: 300, Loss: 0.057, Test Accuracy = 98.450%\n",
            "Epoch: 2, Mini-Batches Completed: 350, Loss: 0.042, Test Accuracy = 98.620%\n",
            "Epoch: 2, Mini-Batches Completed: 400, Loss: 0.048, Test Accuracy = 98.780%\n",
            "Epoch: 2, Mini-Batches Completed: 450, Loss: 0.041, Test Accuracy = 98.710%\n",
            "Starting Epoch: 3...\n",
            "Epoch: 3, Mini-Batches Completed: 50, Loss: 0.027, Test Accuracy = 98.810%\n",
            "Epoch: 3, Mini-Batches Completed: 100, Loss: 0.037, Test Accuracy = 98.710%\n",
            "Epoch: 3, Mini-Batches Completed: 150, Loss: 0.036, Test Accuracy = 98.870%\n",
            "Epoch: 3, Mini-Batches Completed: 200, Loss: 0.038, Test Accuracy = 98.880%\n",
            "Epoch: 3, Mini-Batches Completed: 250, Loss: 0.037, Test Accuracy = 98.750%\n",
            "Epoch: 3, Mini-Batches Completed: 300, Loss: 0.036, Test Accuracy = 98.850%\n",
            "Epoch: 3, Mini-Batches Completed: 350, Loss: 0.041, Test Accuracy = 98.630%\n",
            "Epoch: 3, Mini-Batches Completed: 400, Loss: 0.038, Test Accuracy = 98.530%\n",
            "Epoch: 3, Mini-Batches Completed: 450, Loss: 0.035, Test Accuracy = 99.000%\n",
            "Starting Epoch: 4...\n",
            "Epoch: 4, Mini-Batches Completed: 50, Loss: 0.023, Test Accuracy = 99.160%\n",
            "Epoch: 4, Mini-Batches Completed: 100, Loss: 0.031, Test Accuracy = 99.070%\n",
            "Epoch: 4, Mini-Batches Completed: 150, Loss: 0.027, Test Accuracy = 99.060%\n",
            "Epoch: 4, Mini-Batches Completed: 200, Loss: 0.024, Test Accuracy = 98.820%\n",
            "Epoch: 4, Mini-Batches Completed: 250, Loss: 0.032, Test Accuracy = 98.950%\n",
            "Epoch: 4, Mini-Batches Completed: 300, Loss: 0.026, Test Accuracy = 98.880%\n",
            "Epoch: 4, Mini-Batches Completed: 350, Loss: 0.025, Test Accuracy = 98.980%\n",
            "Epoch: 4, Mini-Batches Completed: 400, Loss: 0.025, Test Accuracy = 98.790%\n",
            "Epoch: 4, Mini-Batches Completed: 450, Loss: 0.028, Test Accuracy = 98.850%\n",
            "Starting Epoch: 5...\n",
            "Epoch: 5, Mini-Batches Completed: 50, Loss: 0.028, Test Accuracy = 98.890%\n",
            "Epoch: 5, Mini-Batches Completed: 100, Loss: 0.026, Test Accuracy = 99.030%\n",
            "Epoch: 5, Mini-Batches Completed: 150, Loss: 0.022, Test Accuracy = 98.900%\n",
            "Epoch: 5, Mini-Batches Completed: 200, Loss: 0.024, Test Accuracy = 98.670%\n",
            "Epoch: 5, Mini-Batches Completed: 250, Loss: 0.027, Test Accuracy = 99.030%\n",
            "Epoch: 5, Mini-Batches Completed: 300, Loss: 0.020, Test Accuracy = 99.010%\n",
            "Epoch: 5, Mini-Batches Completed: 350, Loss: 0.026, Test Accuracy = 99.070%\n",
            "Epoch: 5, Mini-Batches Completed: 400, Loss: 0.025, Test Accuracy = 98.990%\n",
            "Epoch: 5, Mini-Batches Completed: 450, Loss: 0.021, Test Accuracy = 98.920%\n",
            "Starting Epoch: 6...\n",
            "Epoch: 6, Mini-Batches Completed: 50, Loss: 0.021, Test Accuracy = 99.110%\n",
            "Epoch: 6, Mini-Batches Completed: 100, Loss: 0.015, Test Accuracy = 99.130%\n",
            "Epoch: 6, Mini-Batches Completed: 150, Loss: 0.017, Test Accuracy = 98.830%\n",
            "Epoch: 6, Mini-Batches Completed: 200, Loss: 0.014, Test Accuracy = 99.120%\n",
            "Epoch: 6, Mini-Batches Completed: 250, Loss: 0.020, Test Accuracy = 98.990%\n",
            "Epoch: 6, Mini-Batches Completed: 300, Loss: 0.017, Test Accuracy = 98.980%\n",
            "Epoch: 6, Mini-Batches Completed: 350, Loss: 0.031, Test Accuracy = 98.970%\n",
            "Epoch: 6, Mini-Batches Completed: 400, Loss: 0.020, Test Accuracy = 99.090%\n",
            "Epoch: 6, Mini-Batches Completed: 450, Loss: 0.021, Test Accuracy = 99.080%\n",
            "Starting Epoch: 7...\n",
            "Epoch: 7, Mini-Batches Completed: 50, Loss: 0.022, Test Accuracy = 98.980%\n",
            "Epoch: 7, Mini-Batches Completed: 100, Loss: 0.011, Test Accuracy = 98.940%\n",
            "Epoch: 7, Mini-Batches Completed: 150, Loss: 0.010, Test Accuracy = 99.050%\n",
            "Epoch: 7, Mini-Batches Completed: 200, Loss: 0.012, Test Accuracy = 98.790%\n",
            "Epoch: 7, Mini-Batches Completed: 250, Loss: 0.019, Test Accuracy = 98.970%\n",
            "Epoch: 7, Mini-Batches Completed: 300, Loss: 0.014, Test Accuracy = 99.080%\n",
            "Epoch: 7, Mini-Batches Completed: 350, Loss: 0.017, Test Accuracy = 99.030%\n",
            "Epoch: 7, Mini-Batches Completed: 400, Loss: 0.017, Test Accuracy = 99.080%\n",
            "Epoch: 7, Mini-Batches Completed: 450, Loss: 0.016, Test Accuracy = 98.930%\n",
            "Starting Epoch: 8...\n",
            "Epoch: 8, Mini-Batches Completed: 50, Loss: 0.014, Test Accuracy = 98.990%\n",
            "Epoch: 8, Mini-Batches Completed: 100, Loss: 0.014, Test Accuracy = 99.090%\n",
            "Epoch: 8, Mini-Batches Completed: 150, Loss: 0.007, Test Accuracy = 99.180%\n",
            "Epoch: 8, Mini-Batches Completed: 200, Loss: 0.010, Test Accuracy = 99.150%\n",
            "Epoch: 8, Mini-Batches Completed: 250, Loss: 0.017, Test Accuracy = 99.090%\n",
            "Epoch: 8, Mini-Batches Completed: 300, Loss: 0.020, Test Accuracy = 99.060%\n",
            "Epoch: 8, Mini-Batches Completed: 350, Loss: 0.013, Test Accuracy = 98.950%\n",
            "Epoch: 8, Mini-Batches Completed: 400, Loss: 0.013, Test Accuracy = 98.980%\n",
            "Epoch: 8, Mini-Batches Completed: 450, Loss: 0.019, Test Accuracy = 99.090%\n",
            "Starting Epoch: 9...\n",
            "Epoch: 9, Mini-Batches Completed: 50, Loss: 0.015, Test Accuracy = 98.980%\n",
            "Epoch: 9, Mini-Batches Completed: 100, Loss: 0.013, Test Accuracy = 99.150%\n",
            "Epoch: 9, Mini-Batches Completed: 150, Loss: 0.010, Test Accuracy = 99.240%\n",
            "Epoch: 9, Mini-Batches Completed: 200, Loss: 0.008, Test Accuracy = 99.070%\n",
            "Epoch: 9, Mini-Batches Completed: 250, Loss: 0.012, Test Accuracy = 99.210%\n",
            "Epoch: 9, Mini-Batches Completed: 300, Loss: 0.013, Test Accuracy = 98.930%\n",
            "Epoch: 9, Mini-Batches Completed: 350, Loss: 0.010, Test Accuracy = 98.980%\n",
            "Epoch: 9, Mini-Batches Completed: 400, Loss: 0.024, Test Accuracy = 98.950%\n",
            "Epoch: 9, Mini-Batches Completed: 450, Loss: 0.013, Test Accuracy = 98.790%\n",
            "Starting Epoch: 10...\n",
            "Epoch: 10, Mini-Batches Completed: 50, Loss: 0.009, Test Accuracy = 99.080%\n",
            "Epoch: 10, Mini-Batches Completed: 100, Loss: 0.009, Test Accuracy = 99.350%\n",
            "Epoch: 10, Mini-Batches Completed: 150, Loss: 0.010, Test Accuracy = 99.070%\n",
            "Epoch: 10, Mini-Batches Completed: 200, Loss: 0.010, Test Accuracy = 99.080%\n",
            "Epoch: 10, Mini-Batches Completed: 250, Loss: 0.006, Test Accuracy = 99.080%\n",
            "Epoch: 10, Mini-Batches Completed: 300, Loss: 0.013, Test Accuracy = 99.100%\n",
            "Epoch: 10, Mini-Batches Completed: 350, Loss: 0.010, Test Accuracy = 99.120%\n",
            "Epoch: 10, Mini-Batches Completed: 400, Loss: 0.008, Test Accuracy = 99.170%\n",
            "Epoch: 10, Mini-Batches Completed: 450, Loss: 0.017, Test Accuracy = 99.070%\n",
            "Finished Training\n"
          ]
        }
      ]
    },
    {
      "cell_type": "code",
      "source": [],
      "metadata": {
        "id": "eYgmInLs7Vt0"
      },
      "execution_count": 14,
      "outputs": []
    }
  ]
}